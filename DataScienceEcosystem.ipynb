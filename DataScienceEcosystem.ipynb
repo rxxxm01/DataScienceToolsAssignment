{
 "cells": [
  {
   "cell_type": "markdown",
   "id": "e0834d10",
   "metadata": {},
   "source": [
    "# Data Science Tools and Ecosystem"
   ]
  },
  {
   "cell_type": "markdown",
   "id": "10265b38",
   "metadata": {},
   "source": [
    "In this notebook, Data Science Tools and Ecosystem are summarized."
   ]
  },
  {
   "cell_type": "markdown",
   "id": "e10b8d10",
   "metadata": {},
   "source": [
    "<strong> Objectives: </strong>\n",
    "<ul>\n",
    "    <li>List popular languages for Data Science</li>\n",
    "    <li>List examples of the various libraries: scientific, visualization, machine learning, and deep learning.</li>\n",
    "    <li>Describe data sets and sources of data.</li>\n",
    "    <li>Explore open data sets on the Data Asset eXchange.</li> </ul>"
   ]
  },
  {
   "cell_type": "markdown",
   "id": "562bcd4e",
   "metadata": {},
   "source": [
    "Some of the popular languages that Data Scientists use are:\n",
    "<ol>\n",
    "    <li>Python</li>\n",
    "    <li>R</li>\n",
    "    <li>Java</li> </ol>"
   ]
  },
  {
   "cell_type": "markdown",
   "id": "467126ec",
   "metadata": {},
   "source": [
    "Some of the commonly used libraries used by Data Scientists include:\n",
    "<ol>\n",
    "    <li>Pandas</li>\n",
    "    <li>NumPy</li>\n",
    "    <li>Matplotlib</li> </ol>\n",
    "    "
   ]
  },
  {
   "cell_type": "markdown",
   "id": "4f8c7052",
   "metadata": {},
   "source": [
    "|Data Science Tools |\n",
    "| ------ |  \n",
    "| Apache Spark |\n",
    "| Jupyter Notebooks |\n",
    "| TensorFlow |"
   ]
  },
  {
   "cell_type": "markdown",
   "id": "65fc0da9",
   "metadata": {},
   "source": [
    "### Below are a few examples of evaluating arithmetic expressions in Python"
   ]
  },
  {
   "cell_type": "code",
   "execution_count": 14,
   "id": "2128c16e",
   "metadata": {},
   "outputs": [
    {
     "data": {
      "text/plain": [
       "17"
      ]
     },
     "execution_count": 14,
     "metadata": {},
     "output_type": "execute_result"
    }
   ],
   "source": [
    "# This a simple arithmetic expression to mutiply then add integers\n",
    "(3*4)+5"
   ]
  },
  {
   "cell_type": "code",
   "execution_count": 15,
   "id": "2f2b873f",
   "metadata": {},
   "outputs": [
    {
     "data": {
      "text/plain": [
       "3.3333333333333335"
      ]
     },
     "execution_count": 15,
     "metadata": {},
     "output_type": "execute_result"
    }
   ],
   "source": [
    "# This will convert 200 minutes to hours by diving by 60\n",
    "200 / 60"
   ]
  },
  {
   "cell_type": "markdown",
   "id": "6ec0c51d",
   "metadata": {},
   "source": [
    "## Author \n",
    "Reham Alzahrani"
   ]
  },
  {
   "cell_type": "code",
   "execution_count": null,
   "id": "881ba7db",
   "metadata": {},
   "outputs": [],
   "source": []
  }
 ],
 "metadata": {
  "kernelspec": {
   "display_name": "Python 3 (ipykernel)",
   "language": "python",
   "name": "python3"
  },
  "language_info": {
   "codemirror_mode": {
    "name": "ipython",
    "version": 3
   },
   "file_extension": ".py",
   "mimetype": "text/x-python",
   "name": "python",
   "nbconvert_exporter": "python",
   "pygments_lexer": "ipython3",
   "version": "3.11.4"
  }
 },
 "nbformat": 4,
 "nbformat_minor": 5
}
